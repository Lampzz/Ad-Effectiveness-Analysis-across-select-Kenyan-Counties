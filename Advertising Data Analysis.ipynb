{
 "cells": [
  {
   "cell_type": "code",
   "execution_count": 2,
   "metadata": {},
   "outputs": [
    {
     "data": {
      "text/html": [
       "<div>\n",
       "<style scoped>\n",
       "    .dataframe tbody tr th:only-of-type {\n",
       "        vertical-align: middle;\n",
       "    }\n",
       "\n",
       "    .dataframe tbody tr th {\n",
       "        vertical-align: top;\n",
       "    }\n",
       "\n",
       "    .dataframe thead th {\n",
       "        text-align: right;\n",
       "    }\n",
       "</style>\n",
       "<table border=\"1\" class=\"dataframe\">\n",
       "  <thead>\n",
       "    <tr style=\"text-align: right;\">\n",
       "      <th></th>\n",
       "      <th>ID</th>\n",
       "      <th>County</th>\n",
       "      <th>Channel</th>\n",
       "      <th>Ad_Spend</th>\n",
       "      <th>Impressions</th>\n",
       "      <th>Clicks</th>\n",
       "      <th>Conversions</th>\n",
       "      <th>CTR</th>\n",
       "      <th>Conversion_Rate</th>\n",
       "      <th>Revenue</th>\n",
       "      <th>ROI</th>\n",
       "    </tr>\n",
       "  </thead>\n",
       "  <tbody>\n",
       "    <tr>\n",
       "      <th>0</th>\n",
       "      <td>1</td>\n",
       "      <td>Kakamega</td>\n",
       "      <td>YouTube Ads</td>\n",
       "      <td>Ksh1,319.58</td>\n",
       "      <td>16405</td>\n",
       "      <td>6655</td>\n",
       "      <td>423</td>\n",
       "      <td>40.57</td>\n",
       "      <td>6.36</td>\n",
       "      <td>Ksh24,392.62</td>\n",
       "      <td>1748.51</td>\n",
       "    </tr>\n",
       "    <tr>\n",
       "      <th>1</th>\n",
       "      <td>2</td>\n",
       "      <td>Kisumu</td>\n",
       "      <td>Radio</td>\n",
       "      <td>Ksh6,330.95</td>\n",
       "      <td>62278</td>\n",
       "      <td>8122</td>\n",
       "      <td>782</td>\n",
       "      <td>13.04</td>\n",
       "      <td>9.63</td>\n",
       "      <td>Ksh81,854.85</td>\n",
       "      <td>1192.93</td>\n",
       "    </tr>\n",
       "    <tr>\n",
       "      <th>2</th>\n",
       "      <td>3</td>\n",
       "      <td>Nyeri</td>\n",
       "      <td>YouTube Ads</td>\n",
       "      <td>Ksh47,358.64</td>\n",
       "      <td>30694</td>\n",
       "      <td>9380</td>\n",
       "      <td>149</td>\n",
       "      <td>30.56</td>\n",
       "      <td>1.59</td>\n",
       "      <td>Ksh16,476.43</td>\n",
       "      <td>-65.21</td>\n",
       "    </tr>\n",
       "    <tr>\n",
       "      <th>3</th>\n",
       "      <td>4</td>\n",
       "      <td>Eldoret</td>\n",
       "      <td>Meta Ads</td>\n",
       "      <td>Ksh25,451.29</td>\n",
       "      <td>38709</td>\n",
       "      <td>4936</td>\n",
       "      <td>734</td>\n",
       "      <td>12.75</td>\n",
       "      <td>14.87</td>\n",
       "      <td>Ksh90,914.95</td>\n",
       "      <td>257.21</td>\n",
       "    </tr>\n",
       "    <tr>\n",
       "      <th>4</th>\n",
       "      <td>5</td>\n",
       "      <td>Kakamega</td>\n",
       "      <td>TV</td>\n",
       "      <td>Ksh16,347.76</td>\n",
       "      <td>86440</td>\n",
       "      <td>4192</td>\n",
       "      <td>575</td>\n",
       "      <td>4.85</td>\n",
       "      <td>13.72</td>\n",
       "      <td>Ksh60,201.72</td>\n",
       "      <td>268.26</td>\n",
       "    </tr>\n",
       "  </tbody>\n",
       "</table>\n",
       "</div>"
      ],
      "text/plain": [
       "   ID    County      Channel      Ad_Spend  Impressions  Clicks  Conversions  \\\n",
       "0   1  Kakamega  YouTube Ads   Ksh1,319.58        16405    6655          423   \n",
       "1   2    Kisumu        Radio   Ksh6,330.95        62278    8122          782   \n",
       "2   3     Nyeri  YouTube Ads  Ksh47,358.64        30694    9380          149   \n",
       "3   4   Eldoret     Meta Ads  Ksh25,451.29        38709    4936          734   \n",
       "4   5  Kakamega           TV  Ksh16,347.76        86440    4192          575   \n",
       "\n",
       "     CTR  Conversion_Rate       Revenue      ROI  \n",
       "0  40.57             6.36  Ksh24,392.62  1748.51  \n",
       "1  13.04             9.63  Ksh81,854.85  1192.93  \n",
       "2  30.56             1.59  Ksh16,476.43   -65.21  \n",
       "3  12.75            14.87  Ksh90,914.95   257.21  \n",
       "4   4.85            13.72  Ksh60,201.72   268.26  "
      ]
     },
     "execution_count": 2,
     "metadata": {},
     "output_type": "execute_result"
    }
   ],
   "source": [
    "import pandas as pd\n",
    "import numpy as np\n",
    "\n",
    "df = pd.read_csv('/Users/Mukuna/Desktop/Advertising_Effectiveness.csv')\n",
    "\n",
    "df.head()\n",
    "\n"
   ]
  },
  {
   "cell_type": "code",
   "execution_count": 3,
   "metadata": {},
   "outputs": [],
   "source": [
    "\n",
    "CTR = df.groupby('Channel')['CTR'].sum()\n",
    "CTR_data = pd.DataFrame(CTR)\n",
    "CTR_data.to_csv('Click-Through-Rate.csv', index=True)"
   ]
  },
  {
   "cell_type": "code",
   "execution_count": 12,
   "metadata": {},
   "outputs": [],
   "source": [
    "ROI = df.groupby('Channel')['ROI'].sum()\n",
    "ROI_data = pd.DataFrame(ROI)\n",
    "ROI_data.to_csv('ROI.csv', index=True)"
   ]
  },
  {
   "cell_type": "code",
   "execution_count": 17,
   "metadata": {},
   "outputs": [
    {
     "data": {
      "text/plain": [
       "Channel\n",
       "Meta Ads       58775.47\n",
       "YouTube Ads    71065.00\n",
       "Name: ROI, dtype: float64"
      ]
     },
     "execution_count": 17,
     "metadata": {},
     "output_type": "execute_result"
    }
   ],
   "source": [
    "online_Ads = df[df['Channel'].isin(['YouTube Ads', 'Meta Ads'])]\n",
    "online_Ads_ROI = online_Ads.groupby('Channel')['ROI'].sum()\n",
    "online_Ads_ROI "
   ]
  },
  {
   "cell_type": "code",
   "execution_count": 16,
   "metadata": {},
   "outputs": [
    {
     "data": {
      "text/plain": [
       "Channel\n",
       "Newspaper    70345.10\n",
       "Radio        50022.87\n",
       "TV           64217.64\n",
       "Name: ROI, dtype: float64"
      ]
     },
     "execution_count": 16,
     "metadata": {},
     "output_type": "execute_result"
    }
   ],
   "source": [
    "traditional_ads = df[df['Channel'].isin(['TV', 'Newspaper','Radio'])]\n",
    "traditional_ads_ROI = traditional_ads.groupby('Channel')['ROI'].sum()\n",
    "traditional_ads_ROI                 "
   ]
  },
  {
   "cell_type": "code",
   "execution_count": 7,
   "metadata": {},
   "outputs": [
    {
     "data": {
      "text/plain": [
       "Channel\n",
       "Meta Ads       4980.05\n",
       "YouTube Ads    4264.35\n",
       "Name: CTR, dtype: float64"
      ]
     },
     "execution_count": 7,
     "metadata": {},
     "output_type": "execute_result"
    }
   ],
   "source": [
    "online_Ads = df[df['Channel'].isin(['YouTube Ads', 'Meta Ads'])]\n",
    "online_Ads_CTR = online_Ads.groupby('Channel')['CTR'].sum()\n",
    "online_Ads_CTR"
   ]
  },
  {
   "cell_type": "code",
   "execution_count": 8,
   "metadata": {},
   "outputs": [
    {
     "data": {
      "text/plain": [
       "Channel\n",
       "Newspaper    5338.16\n",
       "Radio        3686.57\n",
       "TV           4811.65\n",
       "Name: CTR, dtype: float64"
      ]
     },
     "execution_count": 8,
     "metadata": {},
     "output_type": "execute_result"
    }
   ],
   "source": [
    "traditional_ads = df[df['Channel'].isin(['TV', 'Newspaper','Radio'])]\n",
    "traditional_ads_CTR = traditional_ads.groupby('Channel')['CTR'].sum()\n",
    "traditional_ads_CTR "
   ]
  },
  {
   "cell_type": "markdown",
   "metadata": {},
   "source": [
    "Let's Add the \"Ad Type\" Column to use it to group the county perfomance effectively."
   ]
  },
  {
   "cell_type": "code",
   "execution_count": 22,
   "metadata": {},
   "outputs": [
    {
     "name": "stderr",
     "output_type": "stream",
     "text": [
      "C:\\Users\\Mukuna\\AppData\\Local\\Temp\\ipykernel_10844\\729312120.py:2: SettingWithCopyWarning: \n",
      "A value is trying to be set on a copy of a slice from a DataFrame.\n",
      "Try using .loc[row_indexer,col_indexer] = value instead\n",
      "\n",
      "See the caveats in the documentation: https://pandas.pydata.org/pandas-docs/stable/user_guide/indexing.html#returning-a-view-versus-a-copy\n",
      "  online_Ads['Ad_Type'] = 'Online'\n",
      "C:\\Users\\Mukuna\\AppData\\Local\\Temp\\ipykernel_10844\\729312120.py:5: SettingWithCopyWarning: \n",
      "A value is trying to be set on a copy of a slice from a DataFrame.\n",
      "Try using .loc[row_indexer,col_indexer] = value instead\n",
      "\n",
      "See the caveats in the documentation: https://pandas.pydata.org/pandas-docs/stable/user_guide/indexing.html#returning-a-view-versus-a-copy\n",
      "  traditional_ads['Ad_Type'] = 'Traditional'\n"
     ]
    }
   ],
   "source": [
    "online_Ads = df[df['Channel'].isin(['YouTube Ads', 'Meta Ads'])]\n",
    "online_Ads['Ad_Type'] = 'Online'\n",
    "\n",
    "traditional_ads = df[df['Channel'].isin(['TV', 'Newspaper','Radio'])]\n",
    "traditional_ads['Ad_Type'] = 'Traditional'"
   ]
  },
  {
   "cell_type": "code",
   "execution_count": 23,
   "metadata": {},
   "outputs": [],
   "source": [
    "filtered_ads = pd.concat([traditional_ads, online_Ads])\n",
    "county_perfomance = filtered_ads.groupby(['County', 'Ad_Type', 'Channel']).agg({'CTR': 'mean','ROI': 'sum'}).reset_index()\n",
    "county_perfomance.to_csv('County Perfomance.csv', index=True)"
   ]
  }
 ],
 "metadata": {
  "kernelspec": {
   "display_name": "Python 3",
   "language": "python",
   "name": "python3"
  },
  "language_info": {
   "codemirror_mode": {
    "name": "ipython",
    "version": 3
   },
   "file_extension": ".py",
   "mimetype": "text/x-python",
   "name": "python",
   "nbconvert_exporter": "python",
   "pygments_lexer": "ipython3",
   "version": "3.12.3"
  }
 },
 "nbformat": 4,
 "nbformat_minor": 2
}
